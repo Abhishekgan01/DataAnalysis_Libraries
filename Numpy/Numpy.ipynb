{
 "cells": [
  {
   "cell_type": "code",
   "execution_count": 2,
   "id": "95c795e6",
   "metadata": {},
   "outputs": [
    {
     "name": "stdout",
     "output_type": "stream",
     "text": [
      "[3 4 5 6]\n"
     ]
    }
   ],
   "source": [
    "import numpy as np\n",
    "#Creating 1D Array\n",
    "n1=np.array([3,4,5,6])\n",
    "print(n1)"
   ]
  },
  {
   "cell_type": "code",
   "execution_count": 3,
   "id": "1f03f460",
   "metadata": {},
   "outputs": [
    {
     "name": "stdout",
     "output_type": "stream",
     "text": [
      "[[3 5 6 7]\n",
      " [4 5 6 7]]\n"
     ]
    }
   ],
   "source": [
    "#Creating 2D Array\n",
    "n2=np.array([[3,5,6,7],[4,5,6,7]])\n",
    "print(n2)"
   ]
  },
  {
   "cell_type": "code",
   "execution_count": 4,
   "id": "33cfdf1e",
   "metadata": {},
   "outputs": [
    {
     "name": "stdout",
     "output_type": "stream",
     "text": [
      "[[0 0 0 0 0]\n",
      " [0 0 0 0 0]\n",
      " [0 0 0 0 0]]\n"
     ]
    }
   ],
   "source": [
    "#Zero filled 2D Array\n",
    "n3=np.zeros([3,5],dtype='int32')\n",
    "print(n3)"
   ]
  },
  {
   "cell_type": "code",
   "execution_count": 5,
   "id": "88241002",
   "metadata": {},
   "outputs": [
    {
     "name": "stdout",
     "output_type": "stream",
     "text": [
      "[[[1 1 1]\n",
      "  [1 1 1]\n",
      "  [1 1 1]]\n",
      "\n",
      " [[1 1 1]\n",
      "  [1 1 1]\n",
      "  [1 1 1]]]\n"
     ]
    }
   ],
   "source": [
    "#Array filled with ones\n",
    "n4=np.ones([2,3,3],dtype='int32')\n",
    "print(n4)"
   ]
  },
  {
   "cell_type": "code",
   "execution_count": 6,
   "id": "a1ed89cb",
   "metadata": {},
   "outputs": [
    {
     "name": "stdout",
     "output_type": "stream",
     "text": [
      "[[0.  0.5 1. ]]\n"
     ]
    }
   ],
   "source": [
    "#Empty Array\n",
    "n5=np.empty([1,3])\n",
    "print(n5)"
   ]
  },
  {
   "cell_type": "code",
   "execution_count": 7,
   "id": "480dba51",
   "metadata": {},
   "outputs": [
    {
     "name": "stdout",
     "output_type": "stream",
     "text": [
      "[ 9.   9.2  9.4  9.6  9.8 10.  10.2 10.4 10.6 10.8 11.  11.2 11.4 11.6\n",
      " 11.8 12.  12.2 12.4 12.6 12.8 13.  13.2 13.4 13.6 13.8 14.  14.2 14.4\n",
      " 14.6 14.8]\n"
     ]
    }
   ],
   "source": [
    "#Creating array with range of values\n",
    "n6=np.arange(9,15,0.2)\n",
    "print(n6)"
   ]
  },
  {
   "cell_type": "code",
   "execution_count": 8,
   "id": "9ef8e2d1",
   "metadata": {},
   "outputs": [
    {
     "name": "stdout",
     "output_type": "stream",
     "text": [
      "[-5  0  5 10]\n"
     ]
    }
   ],
   "source": [
    "n7=np.arange(-5,11,5)\n",
    "print(n7)"
   ]
  },
  {
   "cell_type": "code",
   "execution_count": 9,
   "id": "87e65a01",
   "metadata": {},
   "outputs": [
    {
     "name": "stdout",
     "output_type": "stream",
     "text": [
      "[ 0.   5.5 11.  16.5 22. ]\n"
     ]
    }
   ],
   "source": [
    "#Linearly seperated Entries\n",
    "n8=np.linspace(0,22,num=5)\n",
    "print(n8)"
   ]
  },
  {
   "cell_type": "code",
   "execution_count": 10,
   "id": "04edb51a",
   "metadata": {},
   "outputs": [
    {
     "name": "stdout",
     "output_type": "stream",
     "text": [
      "[[99 99 99 99 99]\n",
      " [99 99 99 99 99]]\n"
     ]
    }
   ],
   "source": [
    "#Creating array with a element\n",
    "n9=np.full([2,5],99)\n",
    "print(n9)       "
   ]
  },
  {
   "cell_type": "code",
   "execution_count": 11,
   "id": "713fdaa4",
   "metadata": {},
   "outputs": [
    {
     "name": "stdout",
     "output_type": "stream",
     "text": [
      "[[9. 9. 9.]]\n"
     ]
    }
   ],
   "source": [
    "#Creating a empty array and fill that array with element\n",
    "n5.fill(9)\n",
    "print(n5)"
   ]
  },
  {
   "cell_type": "markdown",
   "id": "dabb284a",
   "metadata": {},
   "source": [
    "# Accessing index and slicing"
   ]
  },
  {
   "cell_type": "code",
   "execution_count": 12,
   "id": "fb37f005",
   "metadata": {},
   "outputs": [
    {
     "name": "stdout",
     "output_type": "stream",
     "text": [
      "3\n"
     ]
    }
   ],
   "source": [
    "print(n1[0])"
   ]
  },
  {
   "cell_type": "code",
   "execution_count": 13,
   "id": "ad2fdd81",
   "metadata": {},
   "outputs": [
    {
     "name": "stdout",
     "output_type": "stream",
     "text": [
      "6\n"
     ]
    }
   ],
   "source": [
    "print(n1[-1])"
   ]
  },
  {
   "cell_type": "code",
   "execution_count": 14,
   "id": "61bf1e7b",
   "metadata": {},
   "outputs": [
    {
     "name": "stdout",
     "output_type": "stream",
     "text": [
      "4\n"
     ]
    }
   ],
   "source": [
    "print(n2[1,0])"
   ]
  },
  {
   "cell_type": "code",
   "execution_count": 15,
   "id": "0d011d1d",
   "metadata": {},
   "outputs": [
    {
     "name": "stdout",
     "output_type": "stream",
     "text": [
      "[4 5 6 7]\n"
     ]
    }
   ],
   "source": [
    "print(n2[1,:])"
   ]
  },
  {
   "cell_type": "code",
   "execution_count": 16,
   "id": "86d6f2bc",
   "metadata": {},
   "outputs": [
    {
     "name": "stdout",
     "output_type": "stream",
     "text": [
      "[7 7]\n"
     ]
    }
   ],
   "source": [
    "print(n2[:,3])"
   ]
  },
  {
   "cell_type": "code",
   "execution_count": 17,
   "id": "02f8d5e2",
   "metadata": {},
   "outputs": [
    {
     "name": "stdout",
     "output_type": "stream",
     "text": [
      "[[[ 1  1  1]\n",
      "  [ 1  1  1]\n",
      "  [ 1  1  1]]\n",
      "\n",
      " [[ 1  1  1]\n",
      "  [ 1  1 10]\n",
      "  [ 1  1  1]]]\n"
     ]
    }
   ],
   "source": [
    "#Changing a element in array\n",
    "n4[1,1,2] = 10\n",
    "print(n4)"
   ]
  },
  {
   "cell_type": "markdown",
   "id": "0fe53756",
   "metadata": {},
   "source": [
    "# Size and Shape"
   ]
  },
  {
   "cell_type": "code",
   "execution_count": 18,
   "id": "c1fb31a8",
   "metadata": {},
   "outputs": [
    {
     "name": "stdout",
     "output_type": "stream",
     "text": [
      "3\n"
     ]
    }
   ],
   "source": [
    "print(n4.ndim) #gives number of dimensions or axes"
   ]
  },
  {
   "cell_type": "code",
   "execution_count": 19,
   "id": "4d652f92",
   "metadata": {},
   "outputs": [
    {
     "name": "stdout",
     "output_type": "stream",
     "text": [
      "(2, 3, 3)\n"
     ]
    }
   ],
   "source": [
    "print(n4.shape)"
   ]
  },
  {
   "cell_type": "code",
   "execution_count": 20,
   "id": "833727bd",
   "metadata": {},
   "outputs": [
    {
     "name": "stdout",
     "output_type": "stream",
     "text": [
      "18\n"
     ]
    }
   ],
   "source": [
    "print(n4.size) #Total elements"
   ]
  },
  {
   "cell_type": "code",
   "execution_count": 21,
   "id": "ad11935d",
   "metadata": {},
   "outputs": [
    {
     "name": "stdout",
     "output_type": "stream",
     "text": [
      "4\n"
     ]
    }
   ],
   "source": [
    "print(n4.itemsize) #Size to store"
   ]
  },
  {
   "cell_type": "code",
   "execution_count": 22,
   "id": "13262fe6",
   "metadata": {},
   "outputs": [
    {
     "name": "stdout",
     "output_type": "stream",
     "text": [
      "72\n"
     ]
    }
   ],
   "source": [
    "print(n4.nbytes) # 4*18"
   ]
  },
  {
   "cell_type": "code",
   "execution_count": 23,
   "id": "4a230631",
   "metadata": {},
   "outputs": [
    {
     "name": "stdout",
     "output_type": "stream",
     "text": [
      "int32\n"
     ]
    }
   ],
   "source": [
    "print(n4.dtype)"
   ]
  },
  {
   "cell_type": "markdown",
   "id": "93e9e018",
   "metadata": {},
   "source": [
    "# Sorting"
   ]
  },
  {
   "cell_type": "code",
   "execution_count": 24,
   "id": "11263389",
   "metadata": {},
   "outputs": [
    {
     "data": {
      "text/plain": [
       "array([ 1,  3,  4,  5,  7,  8,  9, 10])"
      ]
     },
     "execution_count": 24,
     "metadata": {},
     "output_type": "execute_result"
    }
   ],
   "source": [
    "n10=np.array([3,4,1,9,5,10,8,7])\n",
    "np.sort(n10)"
   ]
  },
  {
   "cell_type": "code",
   "execution_count": 25,
   "id": "4af7c4a8",
   "metadata": {},
   "outputs": [
    {
     "name": "stdout",
     "output_type": "stream",
     "text": [
      "2\n"
     ]
    }
   ],
   "source": [
    "n11=np.array([[[6,2,7],[5,10,1]]])\n",
    "np.sort(n11)\n",
    "print(n11[0][0][1])"
   ]
  },
  {
   "cell_type": "code",
   "execution_count": 26,
   "id": "476477bd",
   "metadata": {},
   "outputs": [
    {
     "data": {
      "text/plain": [
       "array([[[ 6,  2,  7],\n",
       "        [ 5, 10,  1]]])"
      ]
     },
     "execution_count": 26,
     "metadata": {},
     "output_type": "execute_result"
    }
   ],
   "source": [
    "np.sort(n11,axis=0) #column wise sort"
   ]
  },
  {
   "cell_type": "code",
   "execution_count": 27,
   "id": "acc4006b",
   "metadata": {},
   "outputs": [
    {
     "data": {
      "text/plain": [
       "array([[[ 5,  2,  1],\n",
       "        [ 6, 10,  7]]])"
      ]
     },
     "execution_count": 27,
     "metadata": {},
     "output_type": "execute_result"
    }
   ],
   "source": [
    "np.sort(n11,axis=1) #row wise sort(default)"
   ]
  },
  {
   "cell_type": "markdown",
   "id": "9524ed3c",
   "metadata": {},
   "source": [
    "# Reshaping and Array Conversions"
   ]
  },
  {
   "cell_type": "code",
   "execution_count": 28,
   "id": "933dde21",
   "metadata": {},
   "outputs": [
    {
     "name": "stdout",
     "output_type": "stream",
     "text": [
      "[[ 3  4]\n",
      " [ 1  9]\n",
      " [ 5 10]\n",
      " [ 8  7]]\n"
     ]
    }
   ],
   "source": [
    "n12=n10.reshape(4,2)\n",
    "print(n12)"
   ]
  },
  {
   "cell_type": "code",
   "execution_count": 29,
   "id": "89e37f52",
   "metadata": {},
   "outputs": [
    {
     "name": "stdout",
     "output_type": "stream",
     "text": [
      "[0 1 2 3]\n",
      "[5 6 7 8]\n",
      "[0 1 2 3 5 6 7 8]\n"
     ]
    }
   ],
   "source": [
    "n13=np.arange(4)\n",
    "print(n13)\n",
    "n14=np.arange(5,9)\n",
    "print(n14)\n",
    "n15=np.concatenate((n13,n14))\n",
    "print(n15)"
   ]
  },
  {
   "cell_type": "code",
   "execution_count": 30,
   "id": "998eeece",
   "metadata": {},
   "outputs": [
    {
     "name": "stdout",
     "output_type": "stream",
     "text": [
      "[0 1 2 3 4 5 6 7]\n",
      "[[0 1 2 3 4 5 6 7]]\n",
      "(1, 8)\n",
      "[[0]\n",
      " [1]\n",
      " [2]\n",
      " [3]\n",
      " [4]\n",
      " [5]\n",
      " [6]\n",
      " [7]]\n",
      "(8, 1)\n"
     ]
    }
   ],
   "source": [
    "#Converting 1D Array to 2D Array(Method 1)\n",
    "n16=np.arange(8)\n",
    "print(n16)\n",
    "n17=n16[np.newaxis,:]\n",
    "print(n17)\n",
    "print(n17.shape)\n",
    "n18=n16[:,np.newaxis]\n",
    "print(n18)\n",
    "print(n18.shape)"
   ]
  },
  {
   "cell_type": "code",
   "execution_count": 31,
   "id": "b13a74ae",
   "metadata": {},
   "outputs": [
    {
     "name": "stdout",
     "output_type": "stream",
     "text": [
      "[[0 1 2 3 4 5 6 7]]\n"
     ]
    }
   ],
   "source": [
    "#Converting 1D Array to 2D Array(Method 2)\n",
    "n19=np.expand_dims(n16,axis=0)\n",
    "print(n19)"
   ]
  },
  {
   "cell_type": "code",
   "execution_count": 32,
   "id": "3a6e220b",
   "metadata": {},
   "outputs": [
    {
     "name": "stdout",
     "output_type": "stream",
     "text": [
      "[[0]\n",
      " [1]\n",
      " [2]\n",
      " [3]\n",
      " [4]\n",
      " [5]\n",
      " [6]\n",
      " [7]]\n"
     ]
    }
   ],
   "source": [
    "n20=np.expand_dims(n16,axis=1)\n",
    "print(n20)"
   ]
  },
  {
   "cell_type": "markdown",
   "id": "4ad1cc94",
   "metadata": {},
   "source": [
    "# Advanced Indexing and slicing"
   ]
  },
  {
   "cell_type": "code",
   "execution_count": 33,
   "id": "be804e60",
   "metadata": {},
   "outputs": [
    {
     "name": "stdout",
     "output_type": "stream",
     "text": [
      "[0 1 2 3 4 5 6 7 8 9]\n",
      "[6 7 8 9]\n"
     ]
    }
   ],
   "source": [
    "n21=np.arange(10)\n",
    "print(n21)\n",
    "print(n21[n21>5])"
   ]
  },
  {
   "cell_type": "code",
   "execution_count": 34,
   "id": "b62f1aeb",
   "metadata": {},
   "outputs": [
    {
     "name": "stdout",
     "output_type": "stream",
     "text": [
      "[4 5 6 7]\n"
     ]
    }
   ],
   "source": [
    "print(n21[(n21>3) & (n21<8)])"
   ]
  },
  {
   "cell_type": "code",
   "execution_count": 35,
   "id": "cf2f2817",
   "metadata": {},
   "outputs": [
    {
     "name": "stdout",
     "output_type": "stream",
     "text": [
      "[False False False False False False  True  True  True  True]\n",
      "[6 7 8 9]\n"
     ]
    }
   ],
   "source": [
    "five_up=n21>5 #Boolean Value \n",
    "print(five_up)\n",
    "print(n21[five_up]) #elements"
   ]
  },
  {
   "cell_type": "code",
   "execution_count": 36,
   "id": "fc1af9ba",
   "metadata": {},
   "outputs": [
    {
     "name": "stdout",
     "output_type": "stream",
     "text": [
      "(array([6, 7, 8, 9], dtype=int64),)\n"
     ]
    }
   ],
   "source": [
    "#To get the index\n",
    "print(np.nonzero(n21>5))"
   ]
  },
  {
   "cell_type": "code",
   "execution_count": 37,
   "id": "ac72f059",
   "metadata": {},
   "outputs": [
    {
     "name": "stdout",
     "output_type": "stream",
     "text": [
      "[3 4 5 6]\n"
     ]
    }
   ],
   "source": [
    "print(n21[3:7])"
   ]
  },
  {
   "cell_type": "markdown",
   "id": "0543bead",
   "metadata": {},
   "source": [
    "# Stack and Split"
   ]
  },
  {
   "cell_type": "code",
   "execution_count": 38,
   "id": "505c1339",
   "metadata": {},
   "outputs": [
    {
     "data": {
      "text/plain": [
       "array([[1, 2, 5, 6],\n",
       "       [3, 4, 7, 8]])"
      ]
     },
     "execution_count": 38,
     "metadata": {},
     "output_type": "execute_result"
    }
   ],
   "source": [
    "n22 = np.array([[1,2],[3,4]])\n",
    "n23 = np.array([[5,6],[7,8]])\n",
    "np.hstack((n22,n23)) #Horizontal stack"
   ]
  },
  {
   "cell_type": "code",
   "execution_count": 39,
   "id": "8e16baf1",
   "metadata": {},
   "outputs": [
    {
     "data": {
      "text/plain": [
       "array([[1, 2],\n",
       "       [3, 4],\n",
       "       [5, 6],\n",
       "       [7, 8]])"
      ]
     },
     "execution_count": 39,
     "metadata": {},
     "output_type": "execute_result"
    }
   ],
   "source": [
    "np.vstack((n22,n23)) #Vertical stack"
   ]
  },
  {
   "cell_type": "code",
   "execution_count": 40,
   "id": "14c02df4",
   "metadata": {},
   "outputs": [
    {
     "name": "stdout",
     "output_type": "stream",
     "text": [
      "[ 0  1  2  3  4  5  6  7  8  9 10 11 12 13 14 15 16 17 18 19]\n"
     ]
    },
    {
     "data": {
      "text/plain": [
       "[array([0, 1, 2, 3, 4]),\n",
       " array([5, 6, 7, 8, 9]),\n",
       " array([10, 11, 12, 13, 14]),\n",
       " array([15, 16, 17, 18, 19])]"
      ]
     },
     "execution_count": 40,
     "metadata": {},
     "output_type": "execute_result"
    }
   ],
   "source": [
    "n24=np.arange(20)\n",
    "print(n24)\n",
    "np.hsplit(n24,4) #Splitting into 4 different arrays"
   ]
  },
  {
   "cell_type": "markdown",
   "id": "74ad479a",
   "metadata": {},
   "source": [
    "# Copy"
   ]
  },
  {
   "cell_type": "code",
   "execution_count": 41,
   "id": "428b518d",
   "metadata": {},
   "outputs": [
    {
     "name": "stdout",
     "output_type": "stream",
     "text": [
      "[100   1   2   3   4   5   6   7   8   9  10  11  12  13  14  15  16  17\n",
      "  18  19]\n",
      "[100   1   2   3   4]\n"
     ]
    }
   ],
   "source": [
    "n25=n24[0:5] #shallow copy\n",
    "n24[0] = 100\n",
    "print(n24)\n",
    "print(n25)"
   ]
  },
  {
   "cell_type": "code",
   "execution_count": 42,
   "id": "e3739bbd",
   "metadata": {},
   "outputs": [
    {
     "name": "stdout",
     "output_type": "stream",
     "text": [
      "[100   1   2   3   4   5   6   7   8   9  10  11  12  13  14  15  16  17\n",
      "  18  19]\n",
      "[100 200   2   3   4   5   6   7   8   9  10  11  12  13  14  15  16  17\n",
      "  18  19]\n"
     ]
    }
   ],
   "source": [
    "#Deep copy\n",
    "n24[1] = 1\n",
    "n26=n24.copy()\n",
    "print(n26)\n",
    "n24[1]=200\n",
    "print(n24)"
   ]
  },
  {
   "cell_type": "markdown",
   "id": "882a4116",
   "metadata": {},
   "source": [
    "# Math"
   ]
  },
  {
   "cell_type": "code",
   "execution_count": 43,
   "id": "3d563d18",
   "metadata": {},
   "outputs": [
    {
     "name": "stdout",
     "output_type": "stream",
     "text": [
      "[[1 2]\n",
      " [3 4]]\n",
      "[[5 6]\n",
      " [7 8]]\n",
      "[[ 6  8]\n",
      " [10 12]]\n",
      "[[ 5 12]\n",
      " [21 32]]\n"
     ]
    }
   ],
   "source": [
    "print(n22)\n",
    "print(n23)\n",
    "print(n22+n23)\n",
    "print(n22*n23)"
   ]
  },
  {
   "cell_type": "code",
   "execution_count": 44,
   "id": "ce52ee71",
   "metadata": {},
   "outputs": [
    {
     "name": "stdout",
     "output_type": "stream",
     "text": [
      "[100   1   2   3   4   5   6   7   8   9  10  11  12  13  14  15  16  17\n",
      "  18  19]\n",
      "290\n",
      "100\n",
      "1\n",
      "[1000   10   20   30   40   50   60   70   80   90  100  110  120  130\n",
      "  140  150  160  170  180  190]\n"
     ]
    }
   ],
   "source": [
    "print(n26)\n",
    "print(n26.sum())\n",
    "print(n26.max())\n",
    "print(n26.min())\n",
    "print(n26*10)"
   ]
  },
  {
   "cell_type": "code",
   "execution_count": 45,
   "id": "500f2635",
   "metadata": {},
   "outputs": [
    {
     "name": "stdout",
     "output_type": "stream",
     "text": [
      "[ 0.86231887  0.54030231 -0.41614684 -0.9899925  -0.65364362  0.28366219\n",
      "  0.96017029  0.75390225 -0.14550003 -0.91113026 -0.83907153  0.0044257\n",
      "  0.84385396  0.90744678  0.13673722 -0.75968791 -0.95765948 -0.27516334\n",
      "  0.66031671  0.98870462]\n"
     ]
    }
   ],
   "source": [
    "print(np.cos(n26))"
   ]
  },
  {
   "cell_type": "markdown",
   "id": "044581e8",
   "metadata": {},
   "source": [
    "# Random Numbers"
   ]
  },
  {
   "cell_type": "code",
   "execution_count": 46,
   "id": "4c8d246f",
   "metadata": {},
   "outputs": [
    {
     "data": {
      "text/plain": [
       "array([[0.20922583, 0.04432909, 0.3573768 ],\n",
       "       [0.33422958, 0.39924499, 0.69234104],\n",
       "       [0.35148889, 0.81124693, 0.47108199]])"
      ]
     },
     "execution_count": 46,
     "metadata": {},
     "output_type": "execute_result"
    }
   ],
   "source": [
    "np.random.rand(3,3)"
   ]
  },
  {
   "cell_type": "code",
   "execution_count": 47,
   "id": "33068a5e",
   "metadata": {},
   "outputs": [
    {
     "data": {
      "text/plain": [
       "array([[ 0,  8],\n",
       "       [16,  4],\n",
       "       [ 8, 10],\n",
       "       [19, 16]])"
      ]
     },
     "execution_count": 47,
     "metadata": {},
     "output_type": "execute_result"
    }
   ],
   "source": [
    "np.random.randint(20,size=(4,2))"
   ]
  },
  {
   "cell_type": "code",
   "execution_count": 48,
   "id": "a29e7f97",
   "metadata": {},
   "outputs": [
    {
     "name": "stdout",
     "output_type": "stream",
     "text": [
      "2\n",
      "3\n",
      "2\n"
     ]
    }
   ],
   "source": [
    "arr5=np.array([1,2,3,4,5])\n",
    "print(arr5[1])\n",
    "arr6=np.array([[1,2,3,4],[5,6,7,8]])\n",
    "print(arr6[0][2])\n",
    "arr7=np.array([[[1,2,3,4],[5,6,7,8]]])\n",
    "print(arr7[0][0][1])"
   ]
  }
 ],
 "metadata": {
  "kernelspec": {
   "display_name": "Python 3 (ipykernel)",
   "language": "python",
   "name": "python3"
  },
  "language_info": {
   "codemirror_mode": {
    "name": "ipython",
    "version": 3
   },
   "file_extension": ".py",
   "mimetype": "text/x-python",
   "name": "python",
   "nbconvert_exporter": "python",
   "pygments_lexer": "ipython3",
   "version": "3.12.2"
  }
 },
 "nbformat": 4,
 "nbformat_minor": 5
}
